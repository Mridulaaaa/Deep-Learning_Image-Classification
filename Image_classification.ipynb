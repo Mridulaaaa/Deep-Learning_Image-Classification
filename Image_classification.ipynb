{
  "nbformat": 4,
  "nbformat_minor": 0,
  "metadata": {
    "colab": {
      "private_outputs": true,
      "provenance": [],
      "toc_visible": true,
      "authorship_tag": "ABX9TyOPXLV4ZnFewE1acy1mb1dj",
      "include_colab_link": true
    },
    "kernelspec": {
      "name": "python3",
      "display_name": "Python 3"
    },
    "language_info": {
      "name": "python"
    }
  },
  "cells": [
    {
      "cell_type": "markdown",
      "metadata": {
        "id": "view-in-github",
        "colab_type": "text"
      },
      "source": [
        "<a href=\"https://colab.research.google.com/github/Mridulaaaa/Deep-Learning_Image-Classification/blob/main/Image_classification.ipynb\" target=\"_parent\"><img src=\"https://colab.research.google.com/assets/colab-badge.svg\" alt=\"Open In Colab\"/></a>"
      ]
    },
    {
      "cell_type": "markdown",
      "source": [],
      "metadata": {
        "id": "oAWnEquZlpJP"
      }
    },
    {
      "cell_type": "code",
      "source": [
        "from keras.datasets import cifar10\n",
        "import matplotlib.pyplot as plt\n",
        "\n",
        "(train_X,train_Y),(test_X,test_Y)=cifar10.load_data()"
      ],
      "metadata": {
        "id": "QjneqJ10ghPK"
      },
      "execution_count": null,
      "outputs": []
    },
    {
      "cell_type": "code",
      "execution_count": null,
      "metadata": {
        "id": "NjTQwh9jDct0"
      },
      "outputs": [],
      "source": [
        "n=6\n",
        "plt.figure(figsize=(20,10))\n",
        "for i in range(n):\n",
        "  plt.subplot(330+1+i)\n",
        "  plt.imshow(train_X[i])\n",
        "  plt.show()"
      ]
    },
    {
      "cell_type": "code",
      "source": [
        "from keras.models import Sequential\n",
        "from keras.layers import Dense\n",
        "from keras.layers import Dropout\n",
        "from keras.layers import Flatten\n",
        "from keras.constraints import maxnorm\n",
        "from keras.optimizers import SGD\n",
        "from keras.layers.convolutional import Conv2D\n",
        "from keras.layers.convolutional import MaxPooling2D\n",
        "from keras.utils import np_utils"
      ],
      "metadata": {
        "id": "mgyojNO5g_lr"
      },
      "execution_count": null,
      "outputs": []
    },
    {
      "cell_type": "code",
      "source": [
        "train_x=train_X.astype('float32')\n",
        "test_X=test_X.astype('float32')\n",
        "\n",
        "train_X=train_X/255.0\n",
        "test_X=test_X/255.0"
      ],
      "metadata": {
        "id": "smfDCmI_hEpK"
      },
      "execution_count": null,
      "outputs": []
    },
    {
      "cell_type": "code",
      "source": [
        "train_Y=np_utils.to_categorical(train_Y)\n",
        "test_Y=np_utils.to_categorical(test_Y)\n",
        "\n",
        "num_classes=test_Y.shape[1]"
      ],
      "metadata": {
        "id": "XShDEA9HiRXH"
      },
      "execution_count": null,
      "outputs": []
    },
    {
      "cell_type": "code",
      "source": [
        "model=Sequential()\n",
        "model.add(Conv2D(32,(3,3),input_shape=(32,32,3),\n",
        "    padding='same',activation='relu',\n",
        "    kernel_constraint=maxnorm(3)))\n",
        "model.add(Dropout(0.2))\n",
        "model.add(Conv2D(32,(3,3),activation='relu',padding='same',kernel_constraint=maxnorm(3)))\n",
        "model.add(MaxPooling2D(pool_size=(2,2)))\n",
        "model.add(Flatten())\n",
        "model.add(Dense(512,activation='relu',kernel_constraint=maxnorm(3)))\n",
        "model.add(Dropout(0.5))\n",
        "model.add(Dense(num_classes, activation='softmax'))"
      ],
      "metadata": {
        "id": "oaZ9i5yDhIdH"
      },
      "execution_count": null,
      "outputs": []
    },
    {
      "cell_type": "code",
      "source": [
        "sgd=SGD(lr=0.01,momentum=0.9,decay=(0.01/25),nesterov=False)\n",
        "\n",
        "model.compile(loss='categorical_crossentropy',\n",
        "  optimizer=sgd,\n",
        "  metrics=['accuracy'])"
      ],
      "metadata": {
        "id": "0KoR7-hLiUnK"
      },
      "execution_count": null,
      "outputs": []
    },
    {
      "cell_type": "code",
      "source": [
        "model.summary()"
      ],
      "metadata": {
        "id": "reWRit8UinJl"
      },
      "execution_count": null,
      "outputs": []
    },
    {
      "cell_type": "code",
      "source": [
        "model.fit(train_X,train_Y,\n",
        "    validation_data=(test_X,test_Y),\n",
        "    epochs=10,batch_size=32)"
      ],
      "metadata": {
        "id": "eaW2UoQ_iqTm"
      },
      "execution_count": null,
      "outputs": []
    },
    {
      "cell_type": "code",
      "source": [
        "_,acc=model.evaluate(test_X,test_Y)\n",
        "print(acc*100)"
      ],
      "metadata": {
        "id": "S1f61y-bi1Q0"
      },
      "execution_count": null,
      "outputs": []
    },
    {
      "cell_type": "code",
      "source": [
        "model.save(\"model1_cifar_10epoch.h5\")"
      ],
      "metadata": {
        "id": "aomDb_uti3U3"
      },
      "execution_count": null,
      "outputs": []
    },
    {
      "cell_type": "code",
      "source": [
        "results={\n",
        "   0:'aeroplane',\n",
        "   1:'automobile',\n",
        "   2:'bird',\n",
        "   3:'cat',\n",
        "   4:'deer',\n",
        "   5:'dog',\n",
        "   6:'frog',\n",
        "   7:'horse',\n",
        "   8:'ship',\n",
        "   9:'truck'\n",
        "}\n",
        "from PIL import Image\n",
        "import numpy as np\n",
        "im=Image.open(\"__image_path__\")\n",
        "# the input image is required to be in the shape of dataset, i.e (32,32,3)\n",
        "\n",
        "im=im.resize((32,32))\n",
        "im=np.expand_dims(im,axis=0)\n",
        "im=np.array(im)\n",
        "pred=model.predict_classes([im])[0]\n",
        "print(pred,results[pred])"
      ],
      "metadata": {
        "id": "eT56dMBti5e1"
      },
      "execution_count": null,
      "outputs": []
    },
    {
      "cell_type": "code",
      "source": [],
      "metadata": {
        "id": "f5WKRBU_i7Sj"
      },
      "execution_count": null,
      "outputs": []
    },
    {
      "cell_type": "markdown",
      "source": [],
      "metadata": {
        "id": "CRdZUtJUlnq9"
      }
    }
  ]
}